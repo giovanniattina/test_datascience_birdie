{
 "cells": [
  {
   "cell_type": "code",
   "execution_count": 1,
   "metadata": {},
   "outputs": [],
   "source": [
    "import pandas as pd\n",
    "import numpy as np\n",
    "\n",
    "\n",
    "from sklearn.feature_selection import chi2\n",
    "from sklearn.model_selection import train_test_split\n",
    "\n",
    "from sklearn.svm import LinearSVC\n",
    "from sklearn.linear_model import LogisticRegression\n",
    "from sklearn.ensemble import RandomForestClassifier\n",
    "\n",
    "from sklearn.model_selection import cross_val_score\n",
    "from sklearn.metrics import confusion_matrix\n",
    "\n",
    "from sklearn.feature_extraction.text import CountVectorizer\n",
    "from sklearn.feature_extraction.text import TfidfTransformer\n",
    "from sklearn.feature_extraction.text import TfidfVectorizer\n",
    "from sklearn.naive_bayes import MultinomialNB\n",
    "\n",
    "\n",
    "import matplotlib.pyplot as plt\n",
    "import seaborn as sns"
   ]
  },
  {
   "cell_type": "code",
   "execution_count": 2,
   "metadata": {},
   "outputs": [
    {
     "data": {
      "text/html": [
       "<div>\n",
       "<style scoped>\n",
       "    .dataframe tbody tr th:only-of-type {\n",
       "        vertical-align: middle;\n",
       "    }\n",
       "\n",
       "    .dataframe tbody tr th {\n",
       "        vertical-align: top;\n",
       "    }\n",
       "\n",
       "    .dataframe thead th {\n",
       "        text-align: right;\n",
       "    }\n",
       "</style>\n",
       "<table border=\"1\" class=\"dataframe\">\n",
       "  <thead>\n",
       "    <tr style=\"text-align: right;\">\n",
       "      <th></th>\n",
       "      <th>SKU</th>\n",
       "      <th>Titulo</th>\n",
       "      <th>Marca</th>\n",
       "      <th>Modelo</th>\n",
       "      <th>Preco</th>\n",
       "      <th>Categoria</th>\n",
       "    </tr>\n",
       "  </thead>\n",
       "  <tbody>\n",
       "    <tr>\n",
       "      <th>99</th>\n",
       "      <td>202957200</td>\n",
       "      <td>Geladeira/Refrigerador Consul Cycle Defrost</td>\n",
       "      <td>Consul</td>\n",
       "      <td>Duplex 334L CRD37EBANA Branco</td>\n",
       "      <td>1.415,41</td>\n",
       "      <td>refr</td>\n",
       "    </tr>\n",
       "    <tr>\n",
       "      <th>100</th>\n",
       "      <td>13000100</td>\n",
       "      <td>Geladeira/Refrigerador Consul Frost Free Evox</td>\n",
       "      <td>Consul</td>\n",
       "      <td>Duplex 386L CRM43NKBNA</td>\n",
       "      <td>2.061,41</td>\n",
       "      <td>refr</td>\n",
       "    </tr>\n",
       "    <tr>\n",
       "      <th>101</th>\n",
       "      <td>13075001</td>\n",
       "      <td>Geladeira/Refrigerador Consul Frost Free Duplex</td>\n",
       "      <td>Consul</td>\n",
       "      <td>386L CRM43NBANA Branco</td>\n",
       "      <td>1.852,41</td>\n",
       "      <td>elgf</td>\n",
       "    </tr>\n",
       "    <tr>\n",
       "      <th>102</th>\n",
       "      <td>218039300</td>\n",
       "      <td>Geladeira/Refrigerador Electrolux Frost Free</td>\n",
       "      <td>Electrolux</td>\n",
       "      <td>Duplex 463L Painel Blue Touch TF52 Branco</td>\n",
       "      <td>2.389,90</td>\n",
       "      <td>elgf</td>\n",
       "    </tr>\n",
       "    <tr>\n",
       "      <th>103</th>\n",
       "      <td>217203800</td>\n",
       "      <td>Frigobar Brastemp 76L Azul</td>\n",
       "      <td>Brastemp</td>\n",
       "      <td>Retrô</td>\n",
       "      <td>1.291,91</td>\n",
       "      <td>rcom</td>\n",
       "    </tr>\n",
       "  </tbody>\n",
       "</table>\n",
       "</div>"
      ],
      "text/plain": [
       "           SKU                                           Titulo       Marca  \\\n",
       "99   202957200      Geladeira/Refrigerador Consul Cycle Defrost      Consul   \n",
       "100   13000100    Geladeira/Refrigerador Consul Frost Free Evox      Consul   \n",
       "101   13075001  Geladeira/Refrigerador Consul Frost Free Duplex      Consul   \n",
       "102  218039300     Geladeira/Refrigerador Electrolux Frost Free  Electrolux   \n",
       "103  217203800                       Frigobar Brastemp 76L Azul    Brastemp   \n",
       "\n",
       "                                        Modelo      Preco Categoria  \n",
       "99               Duplex 334L CRD37EBANA Branco   1.415,41      refr  \n",
       "100                     Duplex 386L CRM43NKBNA   2.061,41      refr  \n",
       "101                     386L CRM43NBANA Branco   1.852,41      elgf  \n",
       "102  Duplex 463L Painel Blue Touch TF52 Branco   2.389,90      elgf  \n",
       "103                                      Retrô   1.291,91      rcom  "
      ]
     },
     "execution_count": 2,
     "metadata": {},
     "output_type": "execute_result"
    }
   ],
   "source": [
    "#load data\n",
    "\n",
    "data = pd.read_csv(\"products.csv\")\n",
    "data.tail()"
   ]
  },
  {
   "cell_type": "code",
   "execution_count": 3,
   "metadata": {},
   "outputs": [],
   "source": [
    "#to classify the data we only use the features 'Titulo' and 'Categoria'\n",
    "X = data[['Titulo']]\n",
    "Y = data[['Categoria']]\n",
    "\n"
   ]
  },
  {
   "cell_type": "code",
   "execution_count": 4,
   "metadata": {},
   "outputs": [
    {
     "name": "stderr",
     "output_type": "stream",
     "text": [
      "/home/giovanni/.local/lib/python3.6/site-packages/ipykernel_launcher.py:2: SettingWithCopyWarning: \n",
      "A value is trying to be set on a copy of a slice from a DataFrame.\n",
      "Try using .loc[row_indexer,col_indexer] = value instead\n",
      "\n",
      "See the caveats in the documentation: http://pandas.pydata.org/pandas-docs/stable/indexing.html#indexing-view-versus-copy\n",
      "  \n"
     ]
    },
    {
     "data": {
      "text/html": [
       "<div>\n",
       "<style scoped>\n",
       "    .dataframe tbody tr th:only-of-type {\n",
       "        vertical-align: middle;\n",
       "    }\n",
       "\n",
       "    .dataframe tbody tr th {\n",
       "        vertical-align: top;\n",
       "    }\n",
       "\n",
       "    .dataframe thead th {\n",
       "        text-align: right;\n",
       "    }\n",
       "</style>\n",
       "<table border=\"1\" class=\"dataframe\">\n",
       "  <thead>\n",
       "    <tr style=\"text-align: right;\">\n",
       "      <th></th>\n",
       "      <th>Categoria</th>\n",
       "      <th>category_id</th>\n",
       "    </tr>\n",
       "  </thead>\n",
       "  <tbody>\n",
       "    <tr>\n",
       "      <th>0</th>\n",
       "      <td>elgf</td>\n",
       "      <td>0</td>\n",
       "    </tr>\n",
       "    <tr>\n",
       "      <th>1</th>\n",
       "      <td>reix</td>\n",
       "      <td>1</td>\n",
       "    </tr>\n",
       "    <tr>\n",
       "      <th>2</th>\n",
       "      <td>elgf</td>\n",
       "      <td>0</td>\n",
       "    </tr>\n",
       "    <tr>\n",
       "      <th>3</th>\n",
       "      <td>elgf</td>\n",
       "      <td>0</td>\n",
       "    </tr>\n",
       "    <tr>\n",
       "      <th>4</th>\n",
       "      <td>refr</td>\n",
       "      <td>2</td>\n",
       "    </tr>\n",
       "  </tbody>\n",
       "</table>\n",
       "</div>"
      ],
      "text/plain": [
       "  Categoria  category_id\n",
       "0      elgf            0\n",
       "1      reix            1\n",
       "2      elgf            0\n",
       "3      elgf            0\n",
       "4      refr            2"
      ]
     },
     "execution_count": 4,
     "metadata": {},
     "output_type": "execute_result"
    }
   ],
   "source": [
    "#categorical variables are often better represented by integers than strings.\n",
    "Y['category_id'] = Y['Categoria'].factorize()[0]\n",
    "category_id_df = Y.loc[:,['Categoria', 'category_id']].drop_duplicates().sort_values('category_id')\n",
    "category_to_id = dict(category_id_df.values)\n",
    "id_to_category = dict(category_id_df[['category_id', 'Categoria']].values)\n",
    "Y.head()"
   ]
  },
  {
   "cell_type": "code",
   "execution_count": 5,
   "metadata": {},
   "outputs": [
    {
     "data": {
      "text/plain": [
       "(104, 34)"
      ]
     },
     "execution_count": 5,
     "metadata": {},
     "output_type": "execute_result"
    }
   ],
   "source": [
    "#have to treat the Titulo feature to numeric either\n",
    "#first calculate a measure called Term Frequency, Inverse Document Frequency, abbreviated to tf-idf\n",
    "#when we analyze the data we can view some stops words, has e and blank spaces, so to improve the model to classify the phrases remove this words is usefull\n",
    "stop_word = ['e', '']\n",
    "tfidf = TfidfVectorizer(sublinear_tf=True, min_df=5, norm='l2', encoding='latin-1', ngram_range=(1, 2), stop_words=stop_word)\n",
    "features = tfidf.fit_transform(X.values.ravel()).toarray()\n",
    "labels = Y.category_id\n",
    "features.shape"
   ]
  },
  {
   "cell_type": "code",
   "execution_count": 6,
   "metadata": {},
   "outputs": [
    {
     "name": "stdout",
     "output_type": "stream",
     "text": [
      "# 'acrf':\n",
      "  . Most correlated unigrams:\n",
      ". geladeira\n",
      ". refrigerador\n",
      "  . Most correlated bigrams:\n",
      ". frost free\n",
      ". geladeira refrigerador\n",
      "# 'ela1':\n",
      "  . Most correlated unigrams:\n",
      ". lava\n",
      ". seca\n",
      "  . Most correlated bigrams:\n",
      ". seca lg\n",
      ". lava seca\n",
      "# 'elgf':\n",
      "  . Most correlated unigrams:\n",
      ". inox\n",
      ". duplex\n",
      "  . Most correlated bigrams:\n",
      ". free inverse\n",
      ". free duplex\n",
      "# 'rcom':\n",
      "  . Most correlated unigrams:\n",
      ". brastemp\n",
      ". frigobar\n",
      "  . Most correlated bigrams:\n",
      ". frost free\n",
      ". geladeira refrigerador\n",
      "# 'ref2':\n",
      "  . Most correlated unigrams:\n",
      ". brastemp\n",
      ". duplex\n",
      "  . Most correlated bigrams:\n",
      ". refrigerador brastemp\n",
      ". free duplex\n",
      "# 'refr':\n",
      "  . Most correlated unigrams:\n",
      ". consul\n",
      ". evox\n",
      "  . Most correlated bigrams:\n",
      ". refrigerador consul\n",
      ". free evox\n",
      "# 'reix':\n",
      "  . Most correlated unigrams:\n",
      ". electrolux\n",
      ". inox\n",
      "  . Most correlated bigrams:\n",
      ". refrigerador samsung\n",
      ". free inox\n"
     ]
    }
   ],
   "source": [
    "#have to find the terms that are the most correlated with each of the categoria\n",
    "#it's just to see that one category is related too a title base some words\n",
    "N = 2\n",
    "for category, category_id in sorted(category_to_id.items()):\n",
    "  features_chi2 = chi2(features, labels == category_id)\n",
    "  indices = np.argsort(features_chi2[0])\n",
    "  feature_names = np.array(tfidf.get_feature_names())[indices]\n",
    "  unigrams = [v for v in feature_names if len(v.split(' ')) == 1]\n",
    "  bigrams = [v for v in feature_names if len(v.split(' ')) == 2]\n",
    "  print(\"# '{}':\".format(category))\n",
    "  print(\"  . Most correlated unigrams:\\n. {}\".format('\\n. '.join(unigrams[-N:])))\n",
    "  print(\"  . Most correlated bigrams:\\n. {}\".format('\\n. '.join(bigrams[-N:])))"
   ]
  },
  {
   "cell_type": "code",
   "execution_count": 7,
   "metadata": {},
   "outputs": [],
   "source": [
    "#split the data into train and test and apply Count Vector and TFIDF to represent the feature as a numeric data\n",
    "X_train, X_test, y_train, y_test = train_test_split(X, Y['Categoria'], test_size=0.3, random_state=42)\n",
    "\n",
    "count_vect = CountVectorizer()\n",
    "X_train_counts = count_vect.fit_transform(X_train)\n",
    "tfidf_transformer = TfidfTransformer()\n",
    "X_train_tfidf = tfidf_transformer.fit_transform(X_train_counts)"
   ]
  },
  {
   "cell_type": "code",
   "execution_count": 8,
   "metadata": {},
   "outputs": [
    {
     "name": "stderr",
     "output_type": "stream",
     "text": [
      "/home/giovanni/.local/lib/python3.6/site-packages/sklearn/model_selection/_split.py:605: Warning: The least populated class in y has only 1 members, which is too few. The minimum number of members in any class cannot be less than n_splits=5.\n",
      "  % (min_groups, self.n_splits)), Warning)\n",
      "/home/giovanni/.local/lib/python3.6/site-packages/sklearn/model_selection/_split.py:605: Warning: The least populated class in y has only 1 members, which is too few. The minimum number of members in any class cannot be less than n_splits=5.\n",
      "  % (min_groups, self.n_splits)), Warning)\n",
      "/home/giovanni/.local/lib/python3.6/site-packages/sklearn/model_selection/_split.py:605: Warning: The least populated class in y has only 1 members, which is too few. The minimum number of members in any class cannot be less than n_splits=5.\n",
      "  % (min_groups, self.n_splits)), Warning)\n",
      "/home/giovanni/.local/lib/python3.6/site-packages/sklearn/model_selection/_split.py:605: Warning: The least populated class in y has only 1 members, which is too few. The minimum number of members in any class cannot be less than n_splits=5.\n",
      "  % (min_groups, self.n_splits)), Warning)\n"
     ]
    },
    {
     "name": "stdout",
     "output_type": "stream",
     "text": [
      "                model_name  fold_idx  accuracy\n",
      "0   RandomForestClassifier         0  0.840000\n",
      "1   RandomForestClassifier         1  0.913043\n",
      "2   RandomForestClassifier         2  0.800000\n",
      "3   RandomForestClassifier         3  0.888889\n",
      "4   RandomForestClassifier         4  1.000000\n",
      "5                LinearSVC         0  0.920000\n",
      "6                LinearSVC         1  0.956522\n",
      "7                LinearSVC         2  1.000000\n",
      "8                LinearSVC         3  0.944444\n",
      "9                LinearSVC         4  1.000000\n",
      "10           MultinomialNB         0  0.800000\n",
      "11           MultinomialNB         1  0.826087\n",
      "12           MultinomialNB         2  0.900000\n",
      "13           MultinomialNB         3  0.777778\n",
      "14           MultinomialNB         4  1.000000\n",
      "15      LogisticRegression         0  0.840000\n",
      "16      LogisticRegression         1  0.913043\n",
      "17      LogisticRegression         2  0.950000\n",
      "18      LogisticRegression         3  0.888889\n",
      "19      LogisticRegression         4  1.000000\n"
     ]
    },
    {
     "data": {
      "image/png": "[encoded data removed]",
      "text/plain": [
       "<Figure size 432x288 with 1 Axes>"
      ]
     },
     "metadata": {},
     "output_type": "display_data"
    }
   ],
   "source": [
    "#this select 4 common models used to classify data that already has a category\n",
    "#so using the 4 models can plot a box-plot of the training score got using  cross validation to obtain the mean\n",
    "#and the percentiles of the distribution\n",
    "#based on the chart can choose the best model which has the lowest variation and the mean is next of 1.0\n",
    "\n",
    "\n",
    "models = [\n",
    "    RandomForestClassifier(n_estimators=200, max_depth=3, random_state=0),\n",
    "    LinearSVC(),\n",
    "    MultinomialNB(),\n",
    "    LogisticRegression(random_state=0),\n",
    "]\n",
    "CV = 5\n",
    "cv_df = pd.DataFrame(index=range(CV * len(models)))\n",
    "entries = []\n",
    "for model in models:\n",
    "  model_name = model.__class__.__name__\n",
    "  accuracies = cross_val_score(model, features, labels, scoring='accuracy', cv=CV)\n",
    "  for fold_idx, accuracy in enumerate(accuracies):\n",
    "    entries.append((model_name, fold_idx, accuracy))\n",
    "cv_df = pd.DataFrame(entries, columns=['model_name', 'fold_idx', 'accuracy'])\n",
    "print(cv_df)\n",
    "sns.boxplot(x='model_name', y='accuracy', data=cv_df)\n",
    "sns.stripplot(x='model_name', y='accuracy', data=cv_df, \n",
    "              size=8, jitter=True, edgecolor=\"gray\", linewidth=2)\n",
    "plt.show()"
   ]
  },
  {
   "cell_type": "code",
   "execution_count": 9,
   "metadata": {},
   "outputs": [
    {
     "data": {
      "image/png": "[encoded data removed]",
      "text/plain": [
       "<Figure size 720x720 with 2 Axes>"
      ]
     },
     "metadata": {},
     "output_type": "display_data"
    }
   ],
   "source": [
    "#the image above represente a better model in svc, so let's use csv\n",
    "#using a confusion matrics can check all the predict data vs the real data value\n",
    "model = LinearSVC()\n",
    "X_train, X_test, y_train, y_test, indices_train, indices_test = train_test_split(features, labels, Y.index, test_size=0.3, random_state=42)\n",
    "model.fit(X_train, y_train)\n",
    "y_pred = model.predict(X_test)\n",
    "\n",
    "\n",
    "conf_mat = confusion_matrix(y_test, y_pred)\n",
    "fig, ax = plt.subplots(figsize=(10,10))\n",
    "sns.heatmap(conf_mat, annot=True, fmt='d',\n",
    "            xticklabels=category_id_df.Categoria.values, yticklabels=category_id_df.Categoria.values)\n",
    "plt.ylabel('Actual')\n",
    "plt.xlabel('Predicted')\n",
    "plt.show()"
   ]
  },
  {
   "cell_type": "code",
   "execution_count": 10,
   "metadata": {},
   "outputs": [
    {
     "name": "stdout",
     "output_type": "stream",
     "text": [
      "             precision    recall  f1-score   support\n",
      "\n",
      "       elgf       0.91      1.00      0.95        10\n",
      "       reix       1.00      1.00      1.00         6\n",
      "       refr       0.67      0.80      0.73         5\n",
      "       ela1       1.00      1.00      1.00         7\n",
      "       rcom       1.00      1.00      1.00         2\n",
      "       ref2       0.00      0.00      0.00         2\n",
      "\n",
      "avg / total       0.86      0.91      0.88        32\n",
      "\n"
     ]
    },
    {
     "name": "stderr",
     "output_type": "stream",
     "text": [
      "/home/giovanni/.local/lib/python3.6/site-packages/sklearn/metrics/classification.py:1428: UserWarning: labels size, 6, does not match size of target_names, 7\n",
      "  .format(len(labels), len(target_names))\n",
      "/home/giovanni/.local/lib/python3.6/site-packages/sklearn/metrics/classification.py:1135: UndefinedMetricWarning: Precision and F-score are ill-defined and being set to 0.0 in labels with no predicted samples.\n",
      "  'precision', 'predicted', average, warn_for)\n"
     ]
    }
   ],
   "source": [
    "from sklearn import metrics\n",
    "print(metrics.classification_report(y_test, y_pred, target_names=Y['Categoria'].unique()))\n"
   ]
  },
  {
   "cell_type": "code",
   "execution_count": 11,
   "metadata": {},
   "outputs": [
    {
     "name": "stdout",
     "output_type": "stream",
     "text": [
      "0.90625\n"
     ]
    }
   ],
   "source": [
    "print(model.score(X_test, y_test))"
   ]
  },
  {
   "cell_type": "code",
   "execution_count": null,
   "metadata": {},
   "outputs": [],
   "source": []
  }
 ],
 "metadata": {
  "kernelspec": {
   "display_name": "Python 3",
   "language": "python",
   "name": "python3"
  },
  "language_info": {
   "codemirror_mode": {
    "name": "ipython",
    "version": 3
   },
   "file_extension": ".py",
   "mimetype": "text/x-python",
   "name": "python",
   "nbconvert_exporter": "python",
   "pygments_lexer": "ipython3",
   "version": "3.6.5"
  }
 },
 "nbformat": 4,
 "nbformat_minor": 2
}
